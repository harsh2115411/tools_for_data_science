{
 "cells": [
  {
   "cell_type": "markdown",
   "id": "bb292368-e670-4e18-aeef-4c62c9ee1282",
   "metadata": {},
   "source": [
    "Tools for data science"
   ]
  },
  {
   "cell_type": "markdown",
   "id": "79301a27-cfba-4027-8d0a-ec9f82f1f8c8",
   "metadata": {},
   "source": [
    "In this notebook we will discuss about tools and technologies used in data science"
   ]
  },
  {
   "cell_type": "markdown",
   "id": "d1ef9b4f-583e-4ece-96f1-d691ecb32590",
   "metadata": {},
   "source": [
    "Some of the popular languages used in the field of data science are:-\r\n",
    "\r\n",
    "1.Python\r\n",
    "\r\n",
    "2.R\r\n",
    "\r\n",
    "3.SQL\r\n",
    "\r\n",
    "4.Java"
   ]
  },
  {
   "cell_type": "markdown",
   "id": "c63e7ced-08a1-4f58-889e-83bc1dfc7180",
   "metadata": {},
   "source": [
    "The common used libraries in data science are:-\r\n",
    "\r\n",
    "1.Numpy\r\n",
    "\r\n",
    "2.Pandas\r\n",
    "\r\n",
    "3.Seaborn\r\n",
    "\r\n",
    "4.Matpotlib\r\n",
    "\r\n",
    "5.Tensorflow\r\n",
    "\r\n",
    "6.Keras\r\n",
    "\r\n",
    "7.Pytorch"
   ]
  },
  {
   "cell_type": "markdown",
   "id": "7fcfb175-72c1-4eb2-b5c0-b575aafa18fa",
   "metadata": {},
   "source": [
    "Data science tools|\r\n",
    "|---|\r\n",
    "|SAS|\r\n",
    "|Apache hadoop|\r\n",
    "|Tensorflow|\r\n"
   ]
  },
  {
   "cell_type": "markdown",
   "id": "3d7c7f42-fc5a-4615-bde9-116c30b21b56",
   "metadata": {},
   "source": [
    "arithmetic expression examples:-"
   ]
  },
  {
   "cell_type": "code",
   "execution_count": 2,
   "id": "4bec7701-2a0d-40a2-a7ab-33ec61073b2c",
   "metadata": {},
   "outputs": [
    {
     "data": {
      "text/plain": [
       "10"
      ]
     },
     "execution_count": 2,
     "metadata": {},
     "output_type": "execute_result"
    }
   ],
   "source": [
    "# cell to multiply and add numbers.\n",
    "(2*3)+4"
   ]
  },
  {
   "cell_type": "code",
   "execution_count": 3,
   "id": "8e58de75-f18f-4446-97c4-3064d52145c8",
   "metadata": {},
   "outputs": [
    {
     "data": {
      "text/plain": [
       "5.0"
      ]
     },
     "execution_count": 3,
     "metadata": {},
     "output_type": "execute_result"
    }
   ],
   "source": [
    "# this will convert 300 minutes into hours\n",
    "300/60"
   ]
  },
  {
   "cell_type": "markdown",
   "id": "4f681388-4354-4772-9034-de9ceda839a0",
   "metadata": {},
   "source": [
    "_OBJECTIVES_\n",
    "\n",
    "* \r\n",
    "list popular languages for data scien\n",
    "  c* e\r\n",
    "list popular libraries used in data scie\n",
    "  n* ce\r\n",
    "list popular tools for data science"
   ]
  },
  {
   "cell_type": "markdown",
   "id": "2a40865d-735f-4756-b5de-719576e462aa",
   "metadata": {},
   "source": [
    "_AUTHOR'S NAME_\r\n",
    "\r\n",
    "Harsh Pilania\r\n",
    "\r\n"
   ]
  },
  {
   "cell_type": "code",
   "execution_count": null,
   "id": "1defc6dd-4f8d-40c8-a3ac-7d7f6718e116",
   "metadata": {},
   "outputs": [],
   "source": []
  }
 ],
 "metadata": {
  "kernelspec": {
   "display_name": "Python 3 (ipykernel)",
   "language": "python",
   "name": "python3"
  },
  "language_info": {
   "codemirror_mode": {
    "name": "ipython",
    "version": 3
   },
   "file_extension": ".py",
   "mimetype": "text/x-python",
   "name": "python",
   "nbconvert_exporter": "python",
   "pygments_lexer": "ipython3",
   "version": "3.11.5"
  }
 },
 "nbformat": 4,
 "nbformat_minor": 5
}
